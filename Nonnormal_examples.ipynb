{
 "cells": [
  {
   "cell_type": "code",
   "execution_count": null,
   "metadata": {
    "collapsed": true
   },
   "outputs": [],
   "source": [
    "%matplotlib inline\n",
    "import matplotlib.pyplot as plt\n",
    "import numpy as np\n",
    "import scipy.linalg"
   ]
  },
  {
   "cell_type": "markdown",
   "metadata": {},
   "source": [
    "# An IVP with a non-normal matrix"
   ]
  },
  {
   "cell_type": "code",
   "execution_count": null,
   "metadata": {},
   "outputs": [],
   "source": [
    "A = np.array([[-1./2,500],[0,-5]])\n",
    "print(A)"
   ]
  },
  {
   "cell_type": "code",
   "execution_count": null,
   "metadata": {},
   "outputs": [],
   "source": [
    "lamda, X = np.linalg.eig(A)\n",
    "print(lamda)"
   ]
  },
  {
   "cell_type": "code",
   "execution_count": null,
   "metadata": {},
   "outputs": [],
   "source": [
    "print(X)\n",
    "print(np.linalg.cond(X))"
   ]
  },
  {
   "cell_type": "code",
   "execution_count": null,
   "metadata": {
    "collapsed": true
   },
   "outputs": [],
   "source": [
    "u0 = np.array([1,1.])"
   ]
  },
  {
   "cell_type": "code",
   "execution_count": null,
   "metadata": {},
   "outputs": [],
   "source": [
    "tt = np.linspace(0,10,200)\n",
    "eanorm = np.zeros_like(tt)\n",
    "unorm = np.zeros_like(tt)\n",
    "\n",
    "for i, t in enumerate(tt):\n",
    "    eanorm[i] = np.linalg.norm(scipy.linalg.expm(t*A))\n",
    "    unorm[i] = np.linalg.norm(np.dot(scipy.linalg.expm(t*A),u0))"
   ]
  },
  {
   "cell_type": "code",
   "execution_count": null,
   "metadata": {},
   "outputs": [],
   "source": [
    "plt.plot(tt,eanorm);\n",
    "plt.ylim(0,100);"
   ]
  },
  {
   "cell_type": "code",
   "execution_count": null,
   "metadata": {},
   "outputs": [],
   "source": [
    "plt.plot(tt,unorm);\n",
    "plt.ylim(0,100);"
   ]
  },
  {
   "cell_type": "markdown",
   "metadata": {},
   "source": [
    "# Pseudospectra"
   ]
  },
  {
   "cell_type": "code",
   "execution_count": null,
   "metadata": {
    "collapsed": true
   },
   "outputs": [],
   "source": [
    "N = 64\n",
    "A = np.diag([1./4]*(N-1),-1) + np.diag([1]*(N-1),1)\n",
    "S = np.diag([1./2]*(N-1),-1) + np.diag([1./2]*(N-1),1)"
   ]
  },
  {
   "cell_type": "code",
   "execution_count": null,
   "metadata": {},
   "outputs": [],
   "source": [
    "print(A)"
   ]
  },
  {
   "cell_type": "code",
   "execution_count": null,
   "metadata": {},
   "outputs": [],
   "source": [
    "print(S)"
   ]
  },
  {
   "cell_type": "code",
   "execution_count": null,
   "metadata": {},
   "outputs": [],
   "source": [
    "np.linalg.eigvals(A)-np.linalg.eigvals(S)"
   ]
  },
  {
   "cell_type": "code",
   "execution_count": null,
   "metadata": {},
   "outputs": [],
   "source": [
    "lamda = np.linalg.eigvals(A)\n",
    "plt.plot(np.real(lamda),np.imag(lamda),'o');"
   ]
  },
  {
   "cell_type": "code",
   "execution_count": null,
   "metadata": {},
   "outputs": [],
   "source": [
    "epsilon = 1.e-3\n",
    "npert = 100\n",
    "lamda = np.linalg.eigvals(S)\n",
    "plt.plot(np.real(lamda),np.imag(lamda),'ok');\n",
    "for i in range(npert):\n",
    "    E = np.random.randn(N,N)\n",
    "    E = E/np.linalg.norm(E)*1.e-3\n",
    "    B = S + E\n",
    "    lamda = np.linalg.eigvals(B)\n",
    "    plt.plot(np.real(lamda),np.imag(lamda),'.')"
   ]
  },
  {
   "cell_type": "code",
   "execution_count": null,
   "metadata": {},
   "outputs": [],
   "source": [
    "epsilon = 1.e-3\n",
    "npert = 100\n",
    "lamda = np.linalg.eigvals(A)\n",
    "plt.plot(np.real(lamda),np.imag(lamda),'ok');\n",
    "for i in range(npert):\n",
    "    E = np.random.randn(N,N)\n",
    "    E = E/np.linalg.norm(E)*1.e-3\n",
    "    B = A + E\n",
    "    lamda = np.linalg.eigvals(B)\n",
    "    plt.plot(np.real(lamda),np.imag(lamda),'.')"
   ]
  },
  {
   "cell_type": "code",
   "execution_count": null,
   "metadata": {
    "collapsed": true
   },
   "outputs": [],
   "source": []
  }
 ],
 "metadata": {
  "kernelspec": {
   "display_name": "Python 2",
   "language": "python",
   "name": "python2"
  },
  "language_info": {
   "codemirror_mode": {
    "name": "ipython",
    "version": 2
   },
   "file_extension": ".py",
   "mimetype": "text/x-python",
   "name": "python",
   "nbconvert_exporter": "python",
   "pygments_lexer": "ipython2",
   "version": "2.7.13"
  }
 },
 "nbformat": 4,
 "nbformat_minor": 2
}
