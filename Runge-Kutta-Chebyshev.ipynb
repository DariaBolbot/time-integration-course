{
 "cells": [
  {
   "cell_type": "code",
   "execution_count": null,
   "metadata": {
    "collapsed": true
   },
   "outputs": [],
   "source": [
    "%matplotlib inline\n",
    "from nodepy import rk\n",
    "from ipywidgets import interact, widgets\n",
    "import matplotlib.pyplot as plt"
   ]
  },
  {
   "cell_type": "code",
   "execution_count": null,
   "metadata": {
    "collapsed": true
   },
   "outputs": [],
   "source": [
    "def plot_RKC_stability_region(p, m, epsilon):\n",
    "    if p == 1:\n",
    "        rkm = rk.RKC1(m, epsilon)\n",
    "    elif p == 2:\n",
    "        rkm = rk.RKC2(m, epsilon)\n",
    "    else:\n",
    "        raise(NotImplementedError)\n",
    "    rkm.plot_stability_region()\n",
    "    plt.show()"
   ]
  },
  {
   "cell_type": "code",
   "execution_count": null,
   "metadata": {},
   "outputs": [],
   "source": [
    "interact(plot_RKC_stability_region,\n",
    "         p=widgets.IntSlider(min=1,max=2),\n",
    "         m=widgets.IntSlider(min=3,max=30),\n",
    "         epsilon=widgets.FloatSlider(min=0,max=1.,step=0.01,description='$\\epsilon$'));"
   ]
  },
  {
   "cell_type": "code",
   "execution_count": null,
   "metadata": {
    "collapsed": true
   },
   "outputs": [],
   "source": []
  }
 ],
 "metadata": {
  "kernelspec": {
   "display_name": "Python 2",
   "language": "python",
   "name": "python2"
  },
  "language_info": {
   "codemirror_mode": {
    "name": "ipython",
    "version": 2
   },
   "file_extension": ".py",
   "mimetype": "text/x-python",
   "name": "python",
   "nbconvert_exporter": "python",
   "pygments_lexer": "ipython2",
   "version": "2.7.13"
  }
 },
 "nbformat": 4,
 "nbformat_minor": 2
}
