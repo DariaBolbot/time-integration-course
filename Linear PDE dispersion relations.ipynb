{
 "cells": [
  {
   "cell_type": "code",
   "execution_count": null,
   "metadata": {},
   "outputs": [],
   "source": [
    "%matplotlib inline\n",
    "import numpy as np\n",
    "import matplotlib.pyplot as plt\n",
    "import matplotlib\n",
    "from matplotlib import animation\n",
    "from clawpack.visclaw.JSAnimation import IPython_display"
   ]
  },
  {
   "cell_type": "markdown",
   "metadata": {},
   "source": [
    "# Advection-diffusion-dispersion\n",
    "Solution by DFT + exact time integration.\n",
    "This code is taken from notebook 1 of https://github.com/ketch/PseudoSpectralPython."
   ]
  },
  {
   "cell_type": "code",
   "execution_count": null,
   "metadata": {
    "collapsed": true
   },
   "outputs": [],
   "source": [
    "# Spatial grid\n",
    "m=64                            # Number of grid points in space\n",
    "L = 2 * np.pi                   # Width of spatial domain\n",
    "x = np.arange(-m/2,m/2)*(L/m)   # Grid points\n",
    "dx = x[1]-x[0]                  # Grid spacing\n",
    "\n",
    "# Temporal grid\n",
    "tmax=4.0     # Final time\n",
    "N = 25       # number grid points in time\n",
    "k = tmax/N   # interval between output times\n",
    "\n",
    "xi = np.fft.fftfreq(m)*m*2*np.pi/L  # Wavenumber \"grid\"\n",
    "# (this is the order in which numpy's FFT gives the frequencies)"
   ]
  },
  {
   "cell_type": "code",
   "execution_count": null,
   "metadata": {},
   "outputs": [],
   "source": [
    "# Initial data\n",
    "u = np.sin(2*x)**2 * (x<-L/4)\n",
    "uhat0 = np.fft.fft(u)\n",
    "\n",
    "a1 = -1.0       # Advection coefficient\n",
    "a2 = 0.  # Diffusion coefficient\n",
    "a3 = 0.  # Dispersion coefficient"
   ]
  },
  {
   "cell_type": "code",
   "execution_count": null,
   "metadata": {},
   "outputs": [],
   "source": [
    "# Store solutions in a list for plotting later\n",
    "frames = [u.copy()]\n",
    "\n",
    "# Now we solve the problem\n",
    "for n in range(1,N+1):\n",
    "    t = n*k\n",
    "    uhat = np.exp((1.j*xi*a1 - a2*xi**2 - 1.j*xi**3*a3)*t) * uhat0\n",
    "    u = np.real(np.fft.ifft(uhat))\n",
    "    frames.append(u.copy())\n",
    "    \n",
    "# Set up plotting\n",
    "fig = plt.figure(figsize=(9,4)); axes = fig.add_subplot(111)\n",
    "line, = axes.plot([],[],lw=3)\n",
    "axes.set_xlim((x[0],x[-1])); axes.set_ylim((-0.1,1.))\n",
    "\n",
    "def plot_frame(i):\n",
    "    #fig = plt.figure()\n",
    "    #plt.plot(x,frames[i])\n",
    "    line.set_data(x,frames[i])\n",
    "    axes.set_title('t='+str(i*k))\n",
    "    fig.canvas.draw()\n",
    "    return fig\n",
    "\n",
    "# Animate the solution\n",
    "matplotlib.animation.FuncAnimation(fig, plot_frame,\n",
    "                                   frames=len(frames),\n",
    "                                   interval=200,\n",
    "                                   repeat=False)"
   ]
  },
  {
   "cell_type": "markdown",
   "metadata": {},
   "source": [
    "# Advection with centered differences"
   ]
  },
  {
   "cell_type": "code",
   "execution_count": null,
   "metadata": {
    "collapsed": true
   },
   "outputs": [],
   "source": [
    "# Spatial grid\n",
    "m=64                            # Number of grid points in space\n",
    "L = 2 * np.pi                   # Width of spatial domain\n",
    "x = np.arange(-m/2,m/2)*(L/m)   # Grid points\n",
    "dx = x[1]-x[0]                  # Grid spacing\n",
    "\n",
    "# Temporal grid\n",
    "tmax=4.0     # Final time\n",
    "N = 25       # number grid points in time\n",
    "k = tmax/N   # interval between output times"
   ]
  },
  {
   "cell_type": "code",
   "execution_count": null,
   "metadata": {
    "collapsed": true
   },
   "outputs": [],
   "source": [
    "# Initial data\n",
    "u = np.sin(2*x)**2 * (x<-L/4)\n",
    "uhat0 = np.fft.fft(u)"
   ]
  },
  {
   "cell_type": "code",
   "execution_count": null,
   "metadata": {},
   "outputs": [],
   "source": [
    "# Store solutions in a list for plotting later\n",
    "frames_true = [u.copy()]\n",
    "frames_cd = [u.copy()]\n",
    "\n",
    "# Now we solve the problem\n",
    "for n in range(1,N+1):\n",
    "    t = n*k\n",
    "    uhat_true = np.exp((-1.j*xi)*t) * uhat0\n",
    "    u_true = np.real(np.fft.ifft(uhat_true))\n",
    "    frames_true.append(u_true.copy())\n",
    "    \n",
    "    uhat_cd = np.exp(-1.j*np.sin(xi*dx)*t/dx) * uhat0\n",
    "    u_cd = np.real(np.fft.ifft(uhat_cd))\n",
    "    frames_cd.append(u_cd)\n",
    "    \n",
    "# Set up plotting\n",
    "fig = plt.figure(figsize=(9,4)); axes = fig.add_subplot(111)\n",
    "line1, = axes.plot([],[],lw=3)\n",
    "line2, = axes.plot([],[],lw=3)\n",
    "plt.legend(['Exact','Centered differences'])\n",
    "\n",
    "axes.set_xlim((x[0],x[-1])); axes.set_ylim((-0.1,1.))\n",
    "\n",
    "def plot_frame(i):\n",
    "    #fig = plt.figure()\n",
    "    #plt.plot(x,frames[i])\n",
    "    line1.set_data(x,frames_true[i])\n",
    "    line2.set_data(x,frames_cd[i])\n",
    "    axes.set_title('t='+str(i*k))\n",
    "    fig.canvas.draw()\n",
    "    return fig\n",
    "\n",
    "# Animate the solution\n",
    "matplotlib.animation.FuncAnimation(fig, plot_frame,\n",
    "                                   frames=len(frames),\n",
    "                                   interval=200,\n",
    "                                   repeat=False)"
   ]
  },
  {
   "cell_type": "code",
   "execution_count": null,
   "metadata": {
    "collapsed": true
   },
   "outputs": [],
   "source": []
  }
 ],
 "metadata": {
  "kernelspec": {
   "display_name": "Python 3",
   "language": "python",
   "name": "python3"
  },
  "language_info": {
   "codemirror_mode": {
    "name": "ipython",
    "version": 3
   },
   "file_extension": ".py",
   "mimetype": "text/x-python",
   "name": "python",
   "nbconvert_exporter": "python",
   "pygments_lexer": "ipython3",
   "version": "3.5.2"
  }
 },
 "nbformat": 4,
 "nbformat_minor": 2
}
