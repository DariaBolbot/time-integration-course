{
 "cells": [
  {
   "cell_type": "code",
   "execution_count": null,
   "metadata": {
    "collapsed": true
   },
   "outputs": [],
   "source": [
    "%matplotlib inline\n",
    "import matplotlib.pyplot as plt\n",
    "import numpy as np\n",
    "from scipy.optimize import fsolve\n",
    "import matplotlib\n",
    "from matplotlib import animation\n",
    "from clawpack.visclaw.JSAnimation import IPython_display"
   ]
  },
  {
   "cell_type": "markdown",
   "metadata": {},
   "source": [
    "# Numerical methods"
   ]
  },
  {
   "cell_type": "code",
   "execution_count": null,
   "metadata": {
    "collapsed": true
   },
   "outputs": [],
   "source": [
    "def explicit_euler(f,t,u,h):\n",
    "    \"\"\"Take one explicit Euler step.\"\"\"\n",
    "    return u + h*f(t,u)"
   ]
  },
  {
   "cell_type": "code",
   "execution_count": null,
   "metadata": {
    "collapsed": true
   },
   "outputs": [],
   "source": [
    "def implicit_euler(f,t,u,h):\n",
    "    \"\"\"Take one implicit Euler step\"\"\"\n",
    "    ff = lambda unew: unew - h*f(t,unew) - u\n",
    "    unew = fsolve(ff,u)\n",
    "    return unew"
   ]
  },
  {
   "cell_type": "markdown",
   "metadata": {},
   "source": [
    "# The pendulum"
   ]
  },
  {
   "cell_type": "markdown",
   "metadata": {},
   "source": [
    "Hamiltonian: $$H(p,q) = \\frac{1}{2}p^2 - \\cos(q)$$\n",
    "Here $q$ is the angle the pendulum makes with the vertical while $p$ is the velocity.\n",
    "\n",
    "The dynamics are governed by the equations\n",
    "\n",
    "\\begin{align}\n",
    "    p'(t) & = - \\sin(q) \\\\\n",
    "    q'(t) & = p.\n",
    "\\end{align}"
   ]
  },
  {
   "cell_type": "code",
   "execution_count": null,
   "metadata": {
    "collapsed": true
   },
   "outputs": [],
   "source": [
    "def pendulum_rhs(t,pq):\n",
    "    p = pq[0]\n",
    "    q = pq[1]\n",
    "    return np.array([-np.sin(q), p])"
   ]
  },
  {
   "cell_type": "code",
   "execution_count": null,
   "metadata": {
    "collapsed": true
   },
   "outputs": [],
   "source": [
    "def plot_trajectory(p,q,skip=10):\n",
    "\n",
    "    plt.plot(p,q);\n",
    "    axbnds = plt.axis('equal');\n",
    "    plt.clf();\n",
    "\n",
    "    # Set up plotting\n",
    "    fig = plt.figure(figsize=(6,6)); axes = fig.add_subplot(111)\n",
    "    line, = axes.plot([],[],lw=3)\n",
    "    dot, = axes.plot([],[],'ok')\n",
    "    axes.set_xlim((axbnds[0],axbnds[1])); axes.set_ylim((axbnds[2],axbnds[3]))\n",
    "\n",
    "    def plot_frame(i):\n",
    "        line.set_data(p[:i*skip],q[:i*skip])\n",
    "        if i>0:\n",
    "            dot.set_data(p[i*skip-1],q[i*skip-1])\n",
    "        else:\n",
    "            dot.set_data(p[0],q[0])\n",
    "        axes.set_title('t='+str(i*h))\n",
    "        fig.canvas.draw()\n",
    "        return fig\n",
    "\n",
    "    # Animate the solution\n",
    "    return matplotlib.animation.FuncAnimation(fig, plot_frame,\n",
    "                                       frames=len(p)/skip,\n",
    "                                       interval=200,\n",
    "                                       repeat=False)"
   ]
  },
  {
   "cell_type": "code",
   "execution_count": null,
   "metadata": {
    "collapsed": true
   },
   "outputs": [],
   "source": [
    "u0 = np.array([0,0.1])\n",
    "uu = [u0]\n",
    "h = 0.1\n",
    "for k in range(400):\n",
    "    uu.append(explicit_euler(pendulum_rhs,0,uu[-1],h))"
   ]
  },
  {
   "cell_type": "code",
   "execution_count": null,
   "metadata": {
    "collapsed": true
   },
   "outputs": [],
   "source": [
    "uu = np.array(uu)\n",
    "p = uu[:,0]; q = uu[:,1]\n",
    "plot_trajectory(p,q)"
   ]
  },
  {
   "cell_type": "code",
   "execution_count": null,
   "metadata": {
    "collapsed": true
   },
   "outputs": [],
   "source": [
    "def plot_energy(p,q):\n",
    "    H = 0.5*p**2 - np.cos(q) + 1\n",
    "    plt.plot(H);\n",
    "    plt.title('Energy vs. time');\n",
    "    \n",
    "plot_energy(p,q)"
   ]
  },
  {
   "cell_type": "code",
   "execution_count": null,
   "metadata": {
    "collapsed": true
   },
   "outputs": [],
   "source": [
    "uu = [u0]\n",
    "h = 0.1\n",
    "for k in range(1000):\n",
    "    uu.append(implicit_euler(pendulum_rhs,0,uu[-1],h))"
   ]
  },
  {
   "cell_type": "code",
   "execution_count": null,
   "metadata": {
    "collapsed": true
   },
   "outputs": [],
   "source": [
    "uu = np.array(uu)\n",
    "p = uu[:,0]; q = uu[:,1]\n",
    "plot_trajectory(p,q,skip=20)"
   ]
  },
  {
   "cell_type": "code",
   "execution_count": null,
   "metadata": {
    "collapsed": true
   },
   "outputs": [],
   "source": [
    "plot_energy(p,q)"
   ]
  },
  {
   "cell_type": "markdown",
   "metadata": {},
   "source": [
    "# Symplectic Euler\n",
    "\n",
    "\\begin{align}\n",
    "    p_{n+1} & = p_n + h f_1(p_{n+1},q_n) \\\\\n",
    "    q_{n+1} & = q_n + h f_2(p_{n+1},q_n).\n",
    "\\end{align}"
   ]
  },
  {
   "cell_type": "code",
   "execution_count": null,
   "metadata": {
    "collapsed": true
   },
   "outputs": [],
   "source": [
    "def symplectic_euler_pendulum(t,u,h):\n",
    "    \"\"\"Take one symplectic Euler step for the pendulum problem.\"\"\"\n",
    "    p = u[0]\n",
    "    q = u[1]\n",
    "    pnew = p - h*np.sin(q)\n",
    "    qnew = q + h*pnew\n",
    "    return np.array([pnew,qnew])"
   ]
  },
  {
   "cell_type": "code",
   "execution_count": null,
   "metadata": {
    "collapsed": true
   },
   "outputs": [],
   "source": [
    "u0 = np.array([0,0.1])\n",
    "uu = [u0]\n",
    "h = 0.1\n",
    "for k in range(1000):\n",
    "    uu.append(symplectic_euler_pendulum(0,uu[-1],h))"
   ]
  },
  {
   "cell_type": "code",
   "execution_count": null,
   "metadata": {
    "collapsed": true
   },
   "outputs": [],
   "source": [
    "uu = np.array(uu)\n",
    "p = uu[:,0]; q = uu[:,1]\n",
    "plot_trajectory(p,q,skip=20)"
   ]
  },
  {
   "cell_type": "code",
   "execution_count": null,
   "metadata": {
    "collapsed": true
   },
   "outputs": [],
   "source": [
    "plot_energy(p,q)"
   ]
  },
  {
   "cell_type": "markdown",
   "metadata": {},
   "source": [
    "# Stormer-Verlet (leapfrog or midpoint method)\n",
    "\n",
    "\\begin{align}\n",
    "    p_{n+1/2} & = p_{n-1/2} + h f(q_n) \\\\\n",
    "    q_{n+1} & = q_n + h p_{n+1/2}.\n",
    "\\end{align}"
   ]
  },
  {
   "cell_type": "code",
   "execution_count": null,
   "metadata": {
    "collapsed": true
   },
   "outputs": [],
   "source": [
    "def stormer_verlet_pendulum(t,u,h):\n",
    "    \"\"\"Take one Verlet step for the pendulum problem.\"\"\"\n",
    "    p = u[0]  # collocated at t_{n + 1/2}\n",
    "    q = u[1]  # collocated at t_n\n",
    "    qnew = q + h*p\n",
    "    pnew = p - h*np.sin(qnew)\n",
    "    return np.array([pnew,qnew])"
   ]
  },
  {
   "cell_type": "code",
   "execution_count": null,
   "metadata": {
    "collapsed": true
   },
   "outputs": [],
   "source": [
    "p0 = 0.\n",
    "q0 = 0.1\n",
    "h = 0.5\n",
    "pnhalf = u0[0] - h/2. * np.sin(u0[1])\n",
    "u0 = np.array([pnhalf,q0])\n",
    "uu = [u0]\n",
    "\n",
    "for k in range(1000):\n",
    "    uu.append(stormer_verlet_pendulum(0,uu[-1],h))"
   ]
  },
  {
   "cell_type": "code",
   "execution_count": null,
   "metadata": {
    "collapsed": true
   },
   "outputs": [],
   "source": [
    "uu = np.array(uu)\n",
    "p = uu[:,0];\n",
    "p = np.insert(p,0,p0)\n",
    "p = (p[1:]+p[:-1])/2.\n",
    "q = uu[:,1]\n",
    "plot_trajectory(p,q,skip=20)"
   ]
  },
  {
   "cell_type": "code",
   "execution_count": null,
   "metadata": {
    "collapsed": true
   },
   "outputs": [],
   "source": [
    "plot_energy(p,q)"
   ]
  },
  {
   "cell_type": "markdown",
   "metadata": {
    "collapsed": true
   },
   "source": [
    "The variation in the energy above is caused by the accuracy of our first (Euler) step."
   ]
  },
  {
   "cell_type": "code",
   "execution_count": null,
   "metadata": {
    "collapsed": true
   },
   "outputs": [],
   "source": [
    "p0 = 0.\n",
    "q0 = 0.1\n",
    "h = 0.5\n",
    "hsmall = h/10000.\n",
    "v = np.array([p0,q0])\n",
    "for k in range(10000):\n",
    "     v = explicit_euler(pendulum_rhs,0,v,hsmall)\n",
    "#uhalf = symplectic_euler_pendulum(0,np.array([p0,q0]),h/2.)\n",
    "phalf = v[0]\n",
    "u0 = np.array([phalf,q0])\n",
    "uu = [u0]\n",
    "for k in range(1000):\n",
    "    uu.append(stormer_verlet_pendulum(0,uu[-1],h))"
   ]
  },
  {
   "cell_type": "code",
   "execution_count": null,
   "metadata": {
    "collapsed": true
   },
   "outputs": [],
   "source": [
    "uu = np.array(uu)\n",
    "p = uu[:,0];\n",
    "p = (p[1:]+p[:-1])/2.\n",
    "p = np.insert(p,0,p0)\n",
    "q = uu[:,1]\n",
    "plot_trajectory(p,q,skip=20)"
   ]
  },
  {
   "cell_type": "code",
   "execution_count": null,
   "metadata": {
    "collapsed": true
   },
   "outputs": [],
   "source": [
    "plot_energy(p,q)"
   ]
  },
  {
   "cell_type": "markdown",
   "metadata": {},
   "source": [
    "# Henon-Heiles"
   ]
  },
  {
   "cell_type": "code",
   "execution_count": null,
   "metadata": {
    "collapsed": true
   },
   "outputs": [],
   "source": [
    "def stormer_verlet_HH(t,u,h):\n",
    "    \"\"\"Take one Verlet step for the HH problem.\"\"\"\n",
    "    # u = [p1,p2,q1,q2]\n",
    "    p1 = u[0]  # collocated at t_{n + 1/2}\n",
    "    p2 = u[1]\n",
    "    q1 = u[2]  # collocated at t_n\n",
    "    q2 = u[3]\n",
    "    q1new = q1 + h*p1\n",
    "    q2new = q2 + h*p2\n",
    "    p1new = p1 - h*(q1new-2*q1new*q2new)\n",
    "    p2new = p2 - h*(q2new+q1new**2+q2new**2)\n",
    "    return np.array([p1new,p2new,q1new,q2new])"
   ]
  },
  {
   "cell_type": "code",
   "execution_count": null,
   "metadata": {
    "collapsed": true
   },
   "outputs": [],
   "source": [
    "p10 = 0.\n",
    "p20 = 0.\n",
    "q10 = 0.0\n",
    "q20 = 0.5\n",
    "print(1./(0.5*(q10**2+q20**2+q10**2*q20 - 1./3.*q20**3)+0.5*(p10**2+p20**2)))\n",
    "h = 0.1\n",
    "p1half = p10 - h/2. * (q10-2*q10*q20)\n",
    "p2half = p20 - h/2. * (q20+q10**2+q20**2)\n",
    "u0 = np.array([p1half,p2half,q10,q20])\n",
    "uu = [u0]"
   ]
  },
  {
   "cell_type": "code",
   "execution_count": null,
   "metadata": {
    "collapsed": true
   },
   "outputs": [],
   "source": [
    "for k in range(1000):\n",
    "    uu.append(stormer_verlet_HH(0,uu[-1],h))"
   ]
  },
  {
   "cell_type": "code",
   "execution_count": null,
   "metadata": {
    "collapsed": true
   },
   "outputs": [],
   "source": [
    "uu = np.array(uu)\n",
    "p2 = uu[:,1];\n",
    "p2 = np.insert(p2,0,p20)\n",
    "p2 = (p2[1:]+p2[:-1])/2.\n",
    "q2 = uu[:,3]\n",
    "plot_trajectory(p2,q2,skip=50)"
   ]
  },
  {
   "cell_type": "code",
   "execution_count": null,
   "metadata": {
    "collapsed": true
   },
   "outputs": [],
   "source": [
    "def HH_rhs(t,u):\n",
    "    # u = [p1,p2,q1,q2]\n",
    "    p1 = u[0]  # collocated at t_{n + 1/2}\n",
    "    p2 = u[1]\n",
    "    q1 = u[2]  # collocated at t_n\n",
    "    q2 = u[3]\n",
    "    dq1 = p1\n",
    "    dq2 = p2\n",
    "    dp1 = -(q1-2*q1*q2)\n",
    "    dp2 = -(q2+q1**2+q2**2)\n",
    "    return np.array([dp1,dp2,dq1,dq2])"
   ]
  },
  {
   "cell_type": "code",
   "execution_count": null,
   "metadata": {
    "collapsed": true
   },
   "outputs": [],
   "source": [
    "p10 = 0.\n",
    "p20 = 0.\n",
    "q10 = 0.0\n",
    "q20 = 0.2\n",
    "print(1./(0.5*(q10**2+q20**2+q10**2*q20 - 1./3.*q20**3)+0.5*(p10**2+p20**2)))\n",
    "h = 0.05\n",
    "p1half = p10 - h/2. * (q10-2*q10*q20)\n",
    "p2half = p20 - h/2. * (q20+q10**2+q20**2)\n",
    "u0 = np.array([p1half,p2half,q10,q20])\n",
    "uu = [u0]\n",
    "\n",
    "for k in range(1000):\n",
    "    uu.append(explicit_euler(HH_rhs,0,uu[-1],h))"
   ]
  },
  {
   "cell_type": "code",
   "execution_count": null,
   "metadata": {
    "collapsed": true
   },
   "outputs": [],
   "source": [
    "uu = np.array(uu)\n",
    "p2 = uu[:,1];\n",
    "p2 = np.insert(p2,0,p20)\n",
    "p2 = (p2[1:]+p2[:-1])/2.\n",
    "q2 = uu[:,3]\n",
    "plot_trajectory(p2,q2,skip=50)"
   ]
  },
  {
   "cell_type": "code",
   "execution_count": null,
   "metadata": {
    "collapsed": true
   },
   "outputs": [],
   "source": []
  }
 ],
 "metadata": {
  "kernelspec": {
   "display_name": "Python 2",
   "language": "python",
   "name": "python2"
  },
  "language_info": {
   "codemirror_mode": {
    "name": "ipython",
    "version": 2
   },
   "file_extension": ".py",
   "mimetype": "text/x-python",
   "name": "python",
   "nbconvert_exporter": "python",
   "pygments_lexer": "ipython2",
   "version": "2.7.13"
  }
 },
 "nbformat": 4,
 "nbformat_minor": 2
}
